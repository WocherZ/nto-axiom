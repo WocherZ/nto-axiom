{
 "cells": [
  {
   "cell_type": "code",
   "execution_count": 18,
   "id": "1d858b31",
   "metadata": {},
   "outputs": [
    {
     "name": "stdout",
     "output_type": "stream",
     "text": [
      "^C\n"
     ]
    }
   ],
   "source": [
    "# !pip install huggingface-hub==0.2.1\n",
    "# !pip install ruclip==0.0.2\n",
    "# !pip install --upgrade huggingface-hub\n",
    "# !pip uninstall ruclip\n",
    "# !pip install huggingface-hub\n",
    "# !pip uninstall transformers\n",
    "!pip install --upgrade transformers tokenizers"
   ]
  },
  {
   "cell_type": "code",
   "execution_count": 1,
   "id": "01b3a802-1ae9-45e0-9f4c-4233db0e1f07",
   "metadata": {
    "execution": {
     "iopub.execute_input": "2024-04-10T15:19:56.296696Z",
     "iopub.status.busy": "2024-04-10T15:19:56.295663Z",
     "iopub.status.idle": "2024-04-10T15:19:56.318061Z",
     "shell.execute_reply": "2024-04-10T15:19:56.316943Z",
     "shell.execute_reply.started": "2024-04-10T15:19:56.296659Z"
    },
    "tags": []
   },
   "outputs": [
    {
     "name": "stderr",
     "output_type": "stream",
     "text": [
      "c:\\Users\\alex\\Desktop\\service\\venv\\Lib\\site-packages\\tqdm\\auto.py:21: TqdmWarning: IProgress not found. Please update jupyter and ipywidgets. See https://ipywidgets.readthedocs.io/en/stable/user_install.html\n",
      "  from .autonotebook import tqdm as notebook_tqdm\n"
     ]
    }
   ],
   "source": [
    "import matplotlib.pyplot as plt\n",
    "import torch\n",
    "import transformers\n",
    "from transformers import CLIPProcessor, CLIPModel, CLIPTokenizer\n",
    "from PIL import Image\n",
    "import io\n",
    "import base64\n",
    "import pandas as pd\n",
    "import numpy as np\n",
    "from sklearn.metrics.pairwise import cosine_similarity"
   ]
  },
  {
   "cell_type": "code",
   "execution_count": 2,
   "id": "9394ba77-2413-4587-950f-236951f79a85",
   "metadata": {
    "execution": {
     "iopub.execute_input": "2024-04-10T21:28:31.259276Z",
     "iopub.status.busy": "2024-04-10T21:28:31.258002Z",
     "iopub.status.idle": "2024-04-10T21:28:31.333889Z",
     "shell.execute_reply": "2024-04-10T21:28:31.332544Z",
     "shell.execute_reply.started": "2024-04-10T21:28:31.259215Z"
    },
    "tags": []
   },
   "outputs": [],
   "source": [
    "class imgToImg:\n",
    "    def __init__(self):\n",
    "        self.device =  \"cuda:0\" if torch.cuda.is_available() else \"cpu\"\n",
    "        self.model_ID = \"openai/clip-vit-base-patch32\"\n",
    "        self.model, self.processor, self.tokenizer = get_model_info(model_ID, device)\n",
    "    def get_model_info(model_ID, device):\n",
    "        model = CLIPModel.from_pretrained(model_ID).to(device)\n",
    "        processor = CLIPProcessor.from_pretrained(model_ID)\n",
    "        tokenizer = CLIPTokenizer.from_pretrained(model_ID)\n",
    "        return model, processor, tokenizer \n",
    "    def get_single_text_embedding(self,text): \n",
    "        inputs = self.tokenizer(text, return_tensors = \"pt\").to(device)\n",
    "        text_embeddings = self.model.get_text_features(**inputs)\n",
    "        embedding_as_np = text_embeddings.cpu().detach().numpy()\n",
    "        return embedding_as_np\n",
    "    def get_single_image_embedding(self,my_image):\n",
    "        image = self.processor(\n",
    "              text = None,\n",
    "              images = my_image, \n",
    "              return_tensors=\"pt\"\n",
    "            )[\"pixel_values\"].to(device)\n",
    "        \n",
    "        embedding = self.model.get_image_features(image)\n",
    "        embedding_as_np = embedding.cpu().detach().numpy()\n",
    "        return embedding_as_np\n",
    "    def get_top_N_images(self,query, data, spots, top_K=100, search_criterion=\"text\"):    \n",
    "        # Text to image Search\n",
    "        if(search_criterion.lower() == \"text\"):\n",
    "          query_vect = self.get_single_text_embedding(query)\n",
    "\n",
    "        # Image to image Search\n",
    "        else: \n",
    "          query_vect = self.get_single_image_embedding(query)\n",
    "\n",
    "        # Relevant columns\n",
    "        revevant_cols = [\"WikiData\",\"Name\", \"City\",\"Lon\", \"Lat\", \"russian_captions\" ]\n",
    "\n",
    "        # Run similarity Search\n",
    "        data[\"cos_sim\"] = data[\"img_embeddings\"].apply(lambda x: cosine_similarity(query_vect, x))\n",
    "\n",
    "        data[\"cos_sim\"] = data[\"cos_sim\"].apply(lambda x: x[0][0])\n",
    "\n",
    "        filters = []\n",
    "        n = 10\n",
    "        most_similar = pd.DataFrame(data.sort_values(by='cos_sim', ascending=False))\n",
    "        places = pd.DataFrame(columns= [\"name\", \"image\", \"img_embeddings\",\"pil\", \"cos_sim\" ])\n",
    "        # sights = pd.DataFrame(columns= [\"WikiData\",\"Name\",\"Kind\", \"City\",\"Rate\",\"Lon\", \"Lat\", \"russian_captions\" ])\n",
    "        \n",
    "        for index, row in most_similar.iterrows():\n",
    "            if row[\"name\"].lower() not in filters:\n",
    "                places.loc[index] = row\n",
    "                # sights.loc[index] = spots.where(spots[\"Name\"] == row[\"name\"]).iloc[0]\n",
    "                filters.append(row[\"name\"].lower())\n",
    "            if len(places) == n:\n",
    "                break\n",
    "        return filters\n",
    "    def plot_images_by_side(self,top_images, n_row, n_col):\n",
    "        index_values = list(top_images.index.values)\n",
    "        list_images = [top_images.iloc[idx].pil for idx in index_values] \n",
    "        similarity_score = [top_images.iloc[idx].cos_sim for idx in index_values] \n",
    "\n",
    "          \n",
    "        _, axs = plt.subplots(n_row, n_col, figsize=(15, 15))\n",
    "        axs = axs.flatten()\n",
    "        for img, ax,  sim_score in zip(list_images, axs,  similarity_score):\n",
    "                ax.imshow(img)\n",
    "                sim_score = 100*float(\"{:.2f}\".format(sim_score))\n",
    "                ax.title.set_text(f\"Similarity: {sim_score}%\")\n",
    "        plt.show() \n",
    "    def get_total_embds(self,df, df_places, img_column, captions_column):\n",
    "        temp_lst = []\n",
    "    \n",
    "        for index, row in df.iterrows():\n",
    "            temp_lst.append(self.get_single_image_embedding(row[\"pil\"]))\n",
    "        # df[\"img_embeddings\"] = temp_lst\n",
    "\n",
    "        temp_lst = np.array(temp_lst)\n",
    "        \n",
    "        for i in range(len(temp_lst.shape[1])):\n",
    "            df[f\"embedding_{i}\"] = temp_lst[:, i]\n",
    "    \n",
    "#    temp_lst = []\n",
    "#    for index, row  in df_places.iterrows():\n",
    "#        temp_vec = 0\n",
    "#        for j in row[captions_column].split(\" \"):\n",
    "#                temp_vec += get_single_text_embedding(j)\n",
    "#        temp_lst.append(temp_vec)\n",
    "#    df_places[\"captions_embds\"] = temp_lst\n",
    "#    temp_lst = []\n",
    "#    for index, row in df.iterrows():\n",
    "#        temp_lst.append(df_places[df_places[\"Name\"] == row[\"name\"]][\"captions_embds\"])\n",
    "#      \n",
    "#    df[\"captions_embds\"] = temp_lst\n",
    "#    df[\"total\"] = df[\"captions_embds\"] + df[\"img_embeddings\"]\n",
    "        return df\n",
    "    def dataToJpg(self, data, source):\n",
    "        for i in data:\n",
    "            temp = []\n",
    "            for j in range(len(i[\"image\"])):\n",
    "                temp.append(Image.open(io.BytesIO(base64.b64decode(list(i[\"image\"])[j]))))\n",
    "            i[\"pil\"] = temp\n",
    "     \n",
    "     \n",
    "    "
   ]
  },
  {
   "cell_type": "code",
   "execution_count": 3,
   "id": "05a11248-0118-4b31-9889-001aad6fdaa4",
   "metadata": {
    "execution": {
     "iopub.execute_input": "2024-04-10T15:19:57.313180Z",
     "iopub.status.busy": "2024-04-10T15:19:57.312181Z",
     "iopub.status.idle": "2024-04-10T15:20:51.074345Z",
     "shell.execute_reply": "2024-04-10T15:20:51.073264Z",
     "shell.execute_reply.started": "2024-04-10T15:19:57.313083Z"
    },
    "tags": []
   },
   "outputs": [],
   "source": [
    "def get_model_info(model_ID, device):\n",
    "    \n",
    "     model = CLIPModel.from_pretrained(model_ID).to(device)\n",
    "   \n",
    "    \n",
    "     processor = CLIPProcessor.from_pretrained(model_ID)\n",
    "    \n",
    "    \n",
    "     tokenizer = CLIPTokenizer.from_pretrained(model_ID)\n",
    "    \n",
    "     return model, processor, tokenizer\n",
    "device = \"cuda:0\" if torch.cuda.is_available() else \"cpu\"\n",
    "model_ID = \"openai/clip-vit-base-patch32\"\n",
    "model, processor, tokenizer = get_model_info(model_ID, device)"
   ]
  },
  {
   "cell_type": "code",
   "execution_count": 4,
   "id": "7194d5a2-1109-4ee6-9c6d-dd637a327bd7",
   "metadata": {
    "execution": {
     "iopub.execute_input": "2024-04-10T18:34:36.788838Z",
     "iopub.status.busy": "2024-04-10T18:34:36.787905Z",
     "iopub.status.idle": "2024-04-10T18:34:36.815609Z",
     "shell.execute_reply": "2024-04-10T18:34:36.814201Z",
     "shell.execute_reply.started": "2024-04-10T18:34:36.788797Z"
    },
    "tags": []
   },
   "outputs": [],
   "source": [
    "def get_single_text_embeddingg(text): \n",
    "    inputs = tokenizer(text, return_tensors = \"pt\").to(device)\n",
    "    text_embeddings = model.get_text_features(**inputs)\n",
    "    embedding_as_np = text_embeddings.cpu().detach().numpy()\n",
    "\n",
    "    return embedding_as_np"
   ]
  },
  {
   "cell_type": "code",
   "execution_count": 5,
   "id": "34a60e18-11e0-4ef2-a8f5-0bb3a601426c",
   "metadata": {
    "execution": {
     "iopub.execute_input": "2024-04-10T18:34:39.939584Z",
     "iopub.status.busy": "2024-04-10T18:34:39.938805Z",
     "iopub.status.idle": "2024-04-10T18:34:39.956076Z",
     "shell.execute_reply": "2024-04-10T18:34:39.954962Z",
     "shell.execute_reply.started": "2024-04-10T18:34:39.939534Z"
    },
    "tags": []
   },
   "outputs": [],
   "source": [
    "def get_single_image_embeddingg(my_image):\n",
    "\n",
    "  image = processor(\n",
    "      text = None,\n",
    "      images = my_image, \n",
    "      return_tensors=\"pt\"\n",
    "  )[\"pixel_values\"].to(device)\n",
    "\n",
    "  embedding = model.get_image_features(image)\n",
    "\n",
    "  \n",
    "  embedding_as_np = embedding.cpu().detach().numpy()\n",
    "\n",
    "  return embedding_as_np"
   ]
  },
  {
   "cell_type": "code",
   "execution_count": 6,
   "id": "39aeec9e-0b29-4948-883b-9a610139c4bd",
   "metadata": {
    "execution": {
     "iopub.execute_input": "2024-04-10T18:34:42.296313Z",
     "iopub.status.busy": "2024-04-10T18:34:42.295324Z",
     "iopub.status.idle": "2024-04-10T18:34:42.333176Z",
     "shell.execute_reply": "2024-04-10T18:34:42.331969Z",
     "shell.execute_reply.started": "2024-04-10T18:34:42.296257Z"
    },
    "tags": []
   },
   "outputs": [],
   "source": [
    "def get_top_N_imagess(query, data, top_K=100, search_criterion=\"text\"):\n",
    "    # Text to image Search\n",
    "    if(search_criterion.lower() == \"text\"):\n",
    "      query_vect = get_single_text_embedding(query)\n",
    "\n",
    "    # Image to image Search\n",
    "    else: \n",
    "      query_vect = get_single_image_embedding(query )\n",
    "\n",
    "    # Relevant columns\n",
    "    revevant_cols = [\"image\", \"cos_sim\"]\n",
    "\n",
    "    # Run similarity Search\n",
    "    data[\"cos_sim\"] = data[\"img_embeddings\"].apply(lambda x: cosine_similarity(query_vect, x))\n",
    "\n",
    "    data[\"cos_sim\"] = data[\"cos_sim\"].apply(lambda x: x[0][0])\n",
    "    \n",
    "    filters = []\n",
    "    n = 10\n",
    "    most_similar = pd.DataFrame(data.sort_values(by='cos_sim', ascending=False))\n",
    "    places = pd.DataFrame(columns= [\"name\", \"image\", \"img_embeddings\", \"cos_sim\" ])\n",
    "    \n",
    "    for index, row in most_similar.iterrows():\n",
    "        if row[\"name\"].lower() not in filters:\n",
    "            places.loc[index] = row\n",
    "            filters.append(row[\"name\"].lower())\n",
    "        if len(places) == n:\n",
    "            break\n",
    "    \n",
    "    return places[revevant_cols].reset_index()"
   ]
  },
  {
   "cell_type": "code",
   "execution_count": 7,
   "id": "a6023395-78e7-4999-a8ab-6ed285e1c7af",
   "metadata": {
    "execution": {
     "iopub.execute_input": "2024-04-10T18:34:45.559269Z",
     "iopub.status.busy": "2024-04-10T18:34:45.558218Z",
     "iopub.status.idle": "2024-04-10T18:34:45.598127Z",
     "shell.execute_reply": "2024-04-10T18:34:45.596997Z",
     "shell.execute_reply.started": "2024-04-10T18:34:45.559217Z"
    },
    "tags": []
   },
   "outputs": [],
   "source": [
    "def plot_images_by_sidee(top_images):\n",
    "\n",
    "  index_values = list(top_images.index.values)\n",
    "  print(len(index_values))\n",
    "  list_images = [top_images.iloc[idx].image for idx in index_values] \n",
    "  \n",
    "  similarity_score = [top_images.iloc[idx].cos_sim for idx in index_values] \n",
    "\n",
    "  n_row = 5\n",
    "  n_col = 2\n",
    "  _, axs = plt.subplots(n_row, n_col, figsize=(15, 15))\n",
    "  axs = axs.flatten()\n",
    "  for img, ax,  sim_score in zip(list_images, axs,  similarity_score):\n",
    "      ax.imshow(img)\n",
    "      sim_score = 100*float(\"{:.2f}\".format(sim_score))\n",
    "      ax.title.set_text(f\"Similarity: {sim_score}%\")\n",
    "  plt.show()"
   ]
  },
  {
   "cell_type": "code",
   "execution_count": 8,
   "id": "ea651f5c-b5a3-4545-bb5d-5cda951bcb1a",
   "metadata": {
    "execution": {
     "iopub.execute_input": "2024-04-10T18:34:48.318948Z",
     "iopub.status.busy": "2024-04-10T18:34:48.317936Z",
     "iopub.status.idle": "2024-04-10T18:34:48.356335Z",
     "shell.execute_reply": "2024-04-10T18:34:48.355265Z",
     "shell.execute_reply.started": "2024-04-10T18:34:48.318874Z"
    },
    "tags": []
   },
   "outputs": [],
   "source": [
    "def get_total_embdss(df, df_places, img_column, captions_column):\n",
    "    temp_lst = []\n",
    "    \n",
    "    for index, row in df.iterrows():\n",
    "        \n",
    "        temp_lst.append(get_single_image_embedding(row[\"image\"]))\n",
    "    df[\"img_embeddings\"] = temp_lst\n",
    "    \n",
    "#    temp_lst = []\n",
    "#    for index, row  in df_places.iterrows():\n",
    "#        temp_vec = 0\n",
    "#        for j in row[captions_column].split(\" \"):\n",
    "#                temp_vec += get_single_text_embedding(j)\n",
    "#        temp_lst.append(temp_vec)\n",
    "#    df_places[\"captions_embds\"] = temp_lst\n",
    "#    temp_lst = []\n",
    "#    for index, row in df.iterrows():\n",
    "#        temp_lst.append(df_places[df_places[\"Name\"] == row[\"name\"]][\"captions_embds\"])\n",
    "#      \n",
    "#    df[\"captions_embds\"] = temp_lst\n",
    "#    df[\"total\"] = df[\"captions_embds\"] + df[\"img_embeddings\"]\n",
    "    return df"
   ]
  },
  {
   "cell_type": "code",
   "execution_count": null,
   "id": "7be8e786-f13e-4d1c-b170-bdaf32fd3d76",
   "metadata": {
    "execution": {
     "iopub.execute_input": "2024-04-10T15:27:10.258239Z",
     "iopub.status.busy": "2024-04-10T15:27:10.257279Z",
     "iopub.status.idle": "2024-04-10T15:27:10.291983Z",
     "shell.execute_reply": "2024-04-10T15:27:10.290844Z",
     "shell.execute_reply.started": "2024-04-10T15:27:10.258172Z"
    },
    "tags": []
   },
   "outputs": [],
   "source": []
  },
  {
   "cell_type": "code",
   "execution_count": 9,
   "id": "f66ee007-3fc4-49c6-9d1c-5881bf1c4c93",
   "metadata": {
    "execution": {
     "iopub.execute_input": "2024-04-10T21:24:57.230832Z",
     "iopub.status.busy": "2024-04-10T21:24:57.230056Z",
     "iopub.status.idle": "2024-04-10T21:25:03.462334Z",
     "shell.execute_reply": "2024-04-10T21:25:03.461034Z",
     "shell.execute_reply.started": "2024-04-10T21:24:57.230782Z"
    },
    "tags": []
   },
   "outputs": [],
   "source": [
    "EKB_img = pd.read_csv(\"data/EKB_images.csv\")\n",
    "# NN_img = pd.read_csv(\"data/NN_images.csv\")\n",
    "# VLD_img = pd.read_csv(\"data/Vladimir_images.csv\")\n",
    "# YAR_img = pd.read_csv(\"data/Yaroslavl_images.csv\")\n",
    "EKB_places = pd.read_csv(\"data/EKB_places_pure.csv\")\n",
    "# NN_places = pd.read_csv(\"data/NN_places_pure.csv\")\n",
    "# VLD_places = pd.read_csv(\"data/VLAD_places_pure.csv\")\n",
    "# YAR_places = pd.read_csv(\"data/YAROSLAVL_places_pure.csv\")"
   ]
  },
  {
   "cell_type": "code",
   "execution_count": 10,
   "id": "9b39ac72",
   "metadata": {},
   "outputs": [],
   "source": [
    "data_img = [EKB_img] # NN_img, VLD_img, YAR_img\n",
    "data_places = [EKB_places] # NN_places, VLD_places, YAR_places"
   ]
  },
  {
   "cell_type": "code",
   "execution_count": 11,
   "id": "5e49e34e-eaec-43ed-840e-03781701f040",
   "metadata": {
    "execution": {
     "iopub.execute_input": "2024-04-10T21:28:41.584827Z",
     "iopub.status.busy": "2024-04-10T21:28:41.583854Z",
     "iopub.status.idle": "2024-04-10T21:28:43.984623Z",
     "shell.execute_reply": "2024-04-10T21:28:43.983444Z",
     "shell.execute_reply.started": "2024-04-10T21:28:41.584792Z"
    },
    "tags": []
   },
   "outputs": [],
   "source": [
    "model = imgToImg()"
   ]
  },
  {
   "cell_type": "code",
   "execution_count": 12,
   "id": "6447deda-5673-48da-a96d-ed4b85188913",
   "metadata": {
    "execution": {
     "iopub.execute_input": "2024-04-10T21:25:29.514309Z",
     "iopub.status.busy": "2024-04-10T21:25:29.513638Z",
     "iopub.status.idle": "2024-04-10T21:25:45.398029Z",
     "shell.execute_reply": "2024-04-10T21:25:45.396812Z",
     "shell.execute_reply.started": "2024-04-10T21:25:29.514257Z"
    },
    "tags": []
   },
   "outputs": [],
   "source": [
    "model.dataToJpg(data_img, \"image\")\n"
   ]
  },
  {
   "cell_type": "code",
   "execution_count": 13,
   "id": "f0889341",
   "metadata": {},
   "outputs": [
    {
     "data": {
      "text/html": [
       "<div>\n",
       "<style scoped>\n",
       "    .dataframe tbody tr th:only-of-type {\n",
       "        vertical-align: middle;\n",
       "    }\n",
       "\n",
       "    .dataframe tbody tr th {\n",
       "        vertical-align: top;\n",
       "    }\n",
       "\n",
       "    .dataframe thead th {\n",
       "        text-align: right;\n",
       "    }\n",
       "</style>\n",
       "<table border=\"1\" class=\"dataframe\">\n",
       "  <thead>\n",
       "    <tr style=\"text-align: right;\">\n",
       "      <th></th>\n",
       "      <th>name</th>\n",
       "      <th>image</th>\n",
       "      <th>pil</th>\n",
       "    </tr>\n",
       "  </thead>\n",
       "  <tbody>\n",
       "    <tr>\n",
       "      <th>0</th>\n",
       "      <td>Динамо</td>\n",
       "      <td>/9j/4AAQSkZJRgABAQAAAQABAAD/2wBDAAUEBAUEAwUFBA...</td>\n",
       "      <td>&lt;PIL.JpegImagePlugin.JpegImageFile image mode=...</td>\n",
       "    </tr>\n",
       "    <tr>\n",
       "      <th>1</th>\n",
       "      <td>Динамо</td>\n",
       "      <td>/9j/4AAQSkZJRgABAQAAAQABAAD/2wBDAAUEBAUEAwUFBA...</td>\n",
       "      <td>&lt;PIL.JpegImagePlugin.JpegImageFile image mode=...</td>\n",
       "    </tr>\n",
       "    <tr>\n",
       "      <th>2</th>\n",
       "      <td>Динамо</td>\n",
       "      <td>/9j/4AAQSkZJRgABAQAAAQABAAD/2wBDAAUEBAUEAwUFBA...</td>\n",
       "      <td>&lt;PIL.JpegImagePlugin.JpegImageFile image mode=...</td>\n",
       "    </tr>\n",
       "    <tr>\n",
       "      <th>3</th>\n",
       "      <td>Динамо</td>\n",
       "      <td>/9j/4AAQSkZJRgABAQAAAQABAAD/2wBDAAUEBAUEAwUFBA...</td>\n",
       "      <td>&lt;PIL.JpegImagePlugin.JpegImageFile image mode=...</td>\n",
       "    </tr>\n",
       "    <tr>\n",
       "      <th>4</th>\n",
       "      <td>Динамо</td>\n",
       "      <td>/9j/4AAQSkZJRgABAQAAAQABAAD/2wBDAAUEBAUEAwUFBA...</td>\n",
       "      <td>&lt;PIL.JpegImagePlugin.JpegImageFile image mode=...</td>\n",
       "    </tr>\n",
       "  </tbody>\n",
       "</table>\n",
       "</div>"
      ],
      "text/plain": [
       "     name                                              image  \\\n",
       "0  Динамо  /9j/4AAQSkZJRgABAQAAAQABAAD/2wBDAAUEBAUEAwUFBA...   \n",
       "1  Динамо  /9j/4AAQSkZJRgABAQAAAQABAAD/2wBDAAUEBAUEAwUFBA...   \n",
       "2  Динамо  /9j/4AAQSkZJRgABAQAAAQABAAD/2wBDAAUEBAUEAwUFBA...   \n",
       "3  Динамо  /9j/4AAQSkZJRgABAQAAAQABAAD/2wBDAAUEBAUEAwUFBA...   \n",
       "4  Динамо  /9j/4AAQSkZJRgABAQAAAQABAAD/2wBDAAUEBAUEAwUFBA...   \n",
       "\n",
       "                                                 pil  \n",
       "0  <PIL.JpegImagePlugin.JpegImageFile image mode=...  \n",
       "1  <PIL.JpegImagePlugin.JpegImageFile image mode=...  \n",
       "2  <PIL.JpegImagePlugin.JpegImageFile image mode=...  \n",
       "3  <PIL.JpegImagePlugin.JpegImageFile image mode=...  \n",
       "4  <PIL.JpegImagePlugin.JpegImageFile image mode=...  "
      ]
     },
     "execution_count": 13,
     "metadata": {},
     "output_type": "execute_result"
    }
   ],
   "source": [
    "EKB_img.head()"
   ]
  },
  {
   "cell_type": "code",
   "execution_count": 14,
   "id": "6371e475",
   "metadata": {},
   "outputs": [
    {
     "ename": "ValueError",
     "evalue": "Expected a 1D array, got an array with shape (2572, 512)",
     "output_type": "error",
     "traceback": [
      "\u001b[1;31m---------------------------------------------------------------------------\u001b[0m",
      "\u001b[1;31mKeyError\u001b[0m                                  Traceback (most recent call last)",
      "File \u001b[1;32mc:\\Users\\alex\\Desktop\\service\\venv\\Lib\\site-packages\\pandas\\core\\indexes\\base.py:3805\u001b[0m, in \u001b[0;36mIndex.get_loc\u001b[1;34m(self, key)\u001b[0m\n\u001b[0;32m   3804\u001b[0m \u001b[38;5;28;01mtry\u001b[39;00m:\n\u001b[1;32m-> 3805\u001b[0m     \u001b[38;5;28;01mreturn\u001b[39;00m \u001b[38;5;28;43mself\u001b[39;49m\u001b[38;5;241;43m.\u001b[39;49m\u001b[43m_engine\u001b[49m\u001b[38;5;241;43m.\u001b[39;49m\u001b[43mget_loc\u001b[49m\u001b[43m(\u001b[49m\u001b[43mcasted_key\u001b[49m\u001b[43m)\u001b[49m\n\u001b[0;32m   3806\u001b[0m \u001b[38;5;28;01mexcept\u001b[39;00m \u001b[38;5;167;01mKeyError\u001b[39;00m \u001b[38;5;28;01mas\u001b[39;00m err:\n",
      "File \u001b[1;32mindex.pyx:167\u001b[0m, in \u001b[0;36mpandas._libs.index.IndexEngine.get_loc\u001b[1;34m()\u001b[0m\n",
      "File \u001b[1;32mindex.pyx:196\u001b[0m, in \u001b[0;36mpandas._libs.index.IndexEngine.get_loc\u001b[1;34m()\u001b[0m\n",
      "File \u001b[1;32mpandas\\\\_libs\\\\hashtable_class_helper.pxi:7081\u001b[0m, in \u001b[0;36mpandas._libs.hashtable.PyObjectHashTable.get_item\u001b[1;34m()\u001b[0m\n",
      "File \u001b[1;32mpandas\\\\_libs\\\\hashtable_class_helper.pxi:7089\u001b[0m, in \u001b[0;36mpandas._libs.hashtable.PyObjectHashTable.get_item\u001b[1;34m()\u001b[0m\n",
      "\u001b[1;31mKeyError\u001b[0m: 'embedding_0'",
      "\nThe above exception was the direct cause of the following exception:\n",
      "\u001b[1;31mKeyError\u001b[0m                                  Traceback (most recent call last)",
      "File \u001b[1;32mc:\\Users\\alex\\Desktop\\service\\venv\\Lib\\site-packages\\pandas\\core\\frame.py:4485\u001b[0m, in \u001b[0;36mDataFrame._set_item_mgr\u001b[1;34m(self, key, value, refs)\u001b[0m\n\u001b[0;32m   4484\u001b[0m \u001b[38;5;28;01mtry\u001b[39;00m:\n\u001b[1;32m-> 4485\u001b[0m     loc \u001b[38;5;241m=\u001b[39m \u001b[38;5;28;43mself\u001b[39;49m\u001b[38;5;241;43m.\u001b[39;49m\u001b[43m_info_axis\u001b[49m\u001b[38;5;241;43m.\u001b[39;49m\u001b[43mget_loc\u001b[49m\u001b[43m(\u001b[49m\u001b[43mkey\u001b[49m\u001b[43m)\u001b[49m\n\u001b[0;32m   4486\u001b[0m \u001b[38;5;28;01mexcept\u001b[39;00m \u001b[38;5;167;01mKeyError\u001b[39;00m:\n\u001b[0;32m   4487\u001b[0m     \u001b[38;5;66;03m# This item wasn't present, just insert at end\u001b[39;00m\n",
      "File \u001b[1;32mc:\\Users\\alex\\Desktop\\service\\venv\\Lib\\site-packages\\pandas\\core\\indexes\\base.py:3812\u001b[0m, in \u001b[0;36mIndex.get_loc\u001b[1;34m(self, key)\u001b[0m\n\u001b[0;32m   3811\u001b[0m         \u001b[38;5;28;01mraise\u001b[39;00m InvalidIndexError(key)\n\u001b[1;32m-> 3812\u001b[0m     \u001b[38;5;28;01mraise\u001b[39;00m \u001b[38;5;167;01mKeyError\u001b[39;00m(key) \u001b[38;5;28;01mfrom\u001b[39;00m \u001b[38;5;21;01merr\u001b[39;00m\n\u001b[0;32m   3813\u001b[0m \u001b[38;5;28;01mexcept\u001b[39;00m \u001b[38;5;167;01mTypeError\u001b[39;00m:\n\u001b[0;32m   3814\u001b[0m     \u001b[38;5;66;03m# If we have a listlike key, _check_indexing_error will raise\u001b[39;00m\n\u001b[0;32m   3815\u001b[0m     \u001b[38;5;66;03m#  InvalidIndexError. Otherwise we fall through and re-raise\u001b[39;00m\n\u001b[0;32m   3816\u001b[0m     \u001b[38;5;66;03m#  the TypeError.\u001b[39;00m\n",
      "\u001b[1;31mKeyError\u001b[0m: 'embedding_0'",
      "\nDuring handling of the above exception, another exception occurred:\n",
      "\u001b[1;31mValueError\u001b[0m                                Traceback (most recent call last)",
      "Cell \u001b[1;32mIn[14], line 1\u001b[0m\n\u001b[1;32m----> 1\u001b[0m EKB_withEmbds \u001b[38;5;241m=\u001b[39m \u001b[43mmodel\u001b[49m\u001b[38;5;241;43m.\u001b[39;49m\u001b[43mget_total_embds\u001b[49m\u001b[43m(\u001b[49m\u001b[43mEKB_img\u001b[49m\u001b[43m,\u001b[49m\u001b[43m \u001b[49m\u001b[43mEKB_places\u001b[49m\u001b[43m,\u001b[49m\u001b[43m \u001b[49m\u001b[38;5;124;43m\"\u001b[39;49m\u001b[38;5;124;43mpil\u001b[39;49m\u001b[38;5;124;43m\"\u001b[39;49m\u001b[43m,\u001b[49m\u001b[43m \u001b[49m\u001b[38;5;124;43m\"\u001b[39;49m\u001b[38;5;124;43mKind\u001b[39;49m\u001b[38;5;124;43m\"\u001b[39;49m\u001b[43m)\u001b[49m\n",
      "Cell \u001b[1;32mIn[2], line 80\u001b[0m, in \u001b[0;36mimgToImg.get_total_embds\u001b[1;34m(self, df, df_places, img_column, captions_column)\u001b[0m\n\u001b[0;32m     77\u001b[0m         temp_lst \u001b[38;5;241m=\u001b[39m np\u001b[38;5;241m.\u001b[39marray(temp_lst)\n\u001b[0;32m     79\u001b[0m         \u001b[38;5;28;01mfor\u001b[39;00m i \u001b[38;5;129;01min\u001b[39;00m \u001b[38;5;28mrange\u001b[39m(\u001b[38;5;28mlen\u001b[39m(temp_lst)):\n\u001b[1;32m---> 80\u001b[0m             \u001b[43mdf\u001b[49m\u001b[43m[\u001b[49m\u001b[38;5;124;43mf\u001b[39;49m\u001b[38;5;124;43m\"\u001b[39;49m\u001b[38;5;124;43membedding_\u001b[39;49m\u001b[38;5;132;43;01m{\u001b[39;49;00m\u001b[43mi\u001b[49m\u001b[38;5;132;43;01m}\u001b[39;49;00m\u001b[38;5;124;43m\"\u001b[39;49m\u001b[43m]\u001b[49m \u001b[38;5;241m=\u001b[39m temp_lst[:, i]\n\u001b[0;32m     82\u001b[0m \u001b[38;5;66;03m#    temp_lst = []\u001b[39;00m\n\u001b[0;32m     83\u001b[0m \u001b[38;5;66;03m#    for index, row  in df_places.iterrows():\u001b[39;00m\n\u001b[0;32m     84\u001b[0m \u001b[38;5;66;03m#        temp_vec = 0\u001b[39;00m\n\u001b[1;32m   (...)\u001b[0m\n\u001b[0;32m     93\u001b[0m \u001b[38;5;66;03m#    df[\"captions_embds\"] = temp_lst\u001b[39;00m\n\u001b[0;32m     94\u001b[0m \u001b[38;5;66;03m#    df[\"total\"] = df[\"captions_embds\"] + df[\"img_embeddings\"]\u001b[39;00m\n\u001b[0;32m     95\u001b[0m         \u001b[38;5;28;01mreturn\u001b[39;00m df\n",
      "File \u001b[1;32mc:\\Users\\alex\\Desktop\\service\\venv\\Lib\\site-packages\\pandas\\core\\frame.py:4311\u001b[0m, in \u001b[0;36mDataFrame.__setitem__\u001b[1;34m(self, key, value)\u001b[0m\n\u001b[0;32m   4308\u001b[0m     \u001b[38;5;28mself\u001b[39m\u001b[38;5;241m.\u001b[39m_setitem_array([key], value)\n\u001b[0;32m   4309\u001b[0m \u001b[38;5;28;01melse\u001b[39;00m:\n\u001b[0;32m   4310\u001b[0m     \u001b[38;5;66;03m# set column\u001b[39;00m\n\u001b[1;32m-> 4311\u001b[0m     \u001b[38;5;28;43mself\u001b[39;49m\u001b[38;5;241;43m.\u001b[39;49m\u001b[43m_set_item\u001b[49m\u001b[43m(\u001b[49m\u001b[43mkey\u001b[49m\u001b[43m,\u001b[49m\u001b[43m \u001b[49m\u001b[43mvalue\u001b[49m\u001b[43m)\u001b[49m\n",
      "File \u001b[1;32mc:\\Users\\alex\\Desktop\\service\\venv\\Lib\\site-packages\\pandas\\core\\frame.py:4538\u001b[0m, in \u001b[0;36mDataFrame._set_item\u001b[1;34m(self, key, value)\u001b[0m\n\u001b[0;32m   4535\u001b[0m             value \u001b[38;5;241m=\u001b[39m np\u001b[38;5;241m.\u001b[39mtile(value, (\u001b[38;5;28mlen\u001b[39m(existing_piece\u001b[38;5;241m.\u001b[39mcolumns), \u001b[38;5;241m1\u001b[39m))\u001b[38;5;241m.\u001b[39mT\n\u001b[0;32m   4536\u001b[0m             refs \u001b[38;5;241m=\u001b[39m \u001b[38;5;28;01mNone\u001b[39;00m\n\u001b[1;32m-> 4538\u001b[0m \u001b[38;5;28;43mself\u001b[39;49m\u001b[38;5;241;43m.\u001b[39;49m\u001b[43m_set_item_mgr\u001b[49m\u001b[43m(\u001b[49m\u001b[43mkey\u001b[49m\u001b[43m,\u001b[49m\u001b[43m \u001b[49m\u001b[43mvalue\u001b[49m\u001b[43m,\u001b[49m\u001b[43m \u001b[49m\u001b[43mrefs\u001b[49m\u001b[43m)\u001b[49m\n",
      "File \u001b[1;32mc:\\Users\\alex\\Desktop\\service\\venv\\Lib\\site-packages\\pandas\\core\\frame.py:4488\u001b[0m, in \u001b[0;36mDataFrame._set_item_mgr\u001b[1;34m(self, key, value, refs)\u001b[0m\n\u001b[0;32m   4485\u001b[0m     loc \u001b[38;5;241m=\u001b[39m \u001b[38;5;28mself\u001b[39m\u001b[38;5;241m.\u001b[39m_info_axis\u001b[38;5;241m.\u001b[39mget_loc(key)\n\u001b[0;32m   4486\u001b[0m \u001b[38;5;28;01mexcept\u001b[39;00m \u001b[38;5;167;01mKeyError\u001b[39;00m:\n\u001b[0;32m   4487\u001b[0m     \u001b[38;5;66;03m# This item wasn't present, just insert at end\u001b[39;00m\n\u001b[1;32m-> 4488\u001b[0m     \u001b[38;5;28;43mself\u001b[39;49m\u001b[38;5;241;43m.\u001b[39;49m\u001b[43m_mgr\u001b[49m\u001b[38;5;241;43m.\u001b[39;49m\u001b[43minsert\u001b[49m\u001b[43m(\u001b[49m\u001b[38;5;28;43mlen\u001b[39;49m\u001b[43m(\u001b[49m\u001b[38;5;28;43mself\u001b[39;49m\u001b[38;5;241;43m.\u001b[39;49m\u001b[43m_info_axis\u001b[49m\u001b[43m)\u001b[49m\u001b[43m,\u001b[49m\u001b[43m \u001b[49m\u001b[43mkey\u001b[49m\u001b[43m,\u001b[49m\u001b[43m \u001b[49m\u001b[43mvalue\u001b[49m\u001b[43m,\u001b[49m\u001b[43m \u001b[49m\u001b[43mrefs\u001b[49m\u001b[43m)\u001b[49m\n\u001b[0;32m   4489\u001b[0m \u001b[38;5;28;01melse\u001b[39;00m:\n\u001b[0;32m   4490\u001b[0m     \u001b[38;5;28mself\u001b[39m\u001b[38;5;241m.\u001b[39m_iset_item_mgr(loc, value, refs\u001b[38;5;241m=\u001b[39mrefs)\n",
      "File \u001b[1;32mc:\\Users\\alex\\Desktop\\service\\venv\\Lib\\site-packages\\pandas\\core\\internals\\managers.py:1370\u001b[0m, in \u001b[0;36mBlockManager.insert\u001b[1;34m(self, loc, item, value, refs)\u001b[0m\n\u001b[0;32m   1368\u001b[0m     value \u001b[38;5;241m=\u001b[39m value\u001b[38;5;241m.\u001b[39mT\n\u001b[0;32m   1369\u001b[0m     \u001b[38;5;28;01mif\u001b[39;00m \u001b[38;5;28mlen\u001b[39m(value) \u001b[38;5;241m>\u001b[39m \u001b[38;5;241m1\u001b[39m:\n\u001b[1;32m-> 1370\u001b[0m         \u001b[38;5;28;01mraise\u001b[39;00m \u001b[38;5;167;01mValueError\u001b[39;00m(\n\u001b[0;32m   1371\u001b[0m             \u001b[38;5;124mf\u001b[39m\u001b[38;5;124m\"\u001b[39m\u001b[38;5;124mExpected a 1D array, got an array with shape \u001b[39m\u001b[38;5;132;01m{\u001b[39;00mvalue\u001b[38;5;241m.\u001b[39mT\u001b[38;5;241m.\u001b[39mshape\u001b[38;5;132;01m}\u001b[39;00m\u001b[38;5;124m\"\u001b[39m\n\u001b[0;32m   1372\u001b[0m         )\n\u001b[0;32m   1373\u001b[0m \u001b[38;5;28;01melse\u001b[39;00m:\n\u001b[0;32m   1374\u001b[0m     value \u001b[38;5;241m=\u001b[39m ensure_block_shape(value, ndim\u001b[38;5;241m=\u001b[39m\u001b[38;5;28mself\u001b[39m\u001b[38;5;241m.\u001b[39mndim)\n",
      "\u001b[1;31mValueError\u001b[0m: Expected a 1D array, got an array with shape (2572, 512)"
     ]
    }
   ],
   "source": [
    "EKB_withEmbds = model.get_total_embds(EKB_img, EKB_places, \"pil\", \"Kind\")"
   ]
  },
  {
   "cell_type": "code",
   "execution_count": null,
   "id": "abffd29e",
   "metadata": {},
   "outputs": [],
   "source": [
    "EKB_withEmbds.head()"
   ]
  },
  {
   "cell_type": "code",
   "execution_count": 41,
   "id": "7323ec1b",
   "metadata": {},
   "outputs": [],
   "source": [
    "# Save data\n",
    "EKB_withEmbds.to_csv(\"data/EKB_images_emb.csv\")\n",
    "# NN_withEmbds.to_csv(\"data/NN_images_emb.csv\")\n",
    "# VLD_withEmbds.to_csv(\"data/Vladimir_images_emb.csv\")\n",
    "# YAR_withEmbds.to_csv(\"data/Yaroslavl_images_emb.csv\")"
   ]
  },
  {
   "cell_type": "code",
   "execution_count": 37,
   "id": "89c33bc9-060c-406f-b6f0-462dac09649f",
   "metadata": {
    "execution": {
     "iopub.execute_input": "2024-04-10T21:54:37.483386Z",
     "iopub.status.busy": "2024-04-10T21:54:37.482221Z",
     "iopub.status.idle": "2024-04-10T21:54:37.520003Z",
     "shell.execute_reply": "2024-04-10T21:54:37.518872Z",
     "shell.execute_reply.started": "2024-04-10T21:54:37.483336Z"
    },
    "tags": []
   },
   "outputs": [
    {
     "data": {
      "text/html": [
       "<div>\n",
       "<style scoped>\n",
       "    .dataframe tbody tr th:only-of-type {\n",
       "        vertical-align: middle;\n",
       "    }\n",
       "\n",
       "    .dataframe tbody tr th {\n",
       "        vertical-align: top;\n",
       "    }\n",
       "\n",
       "    .dataframe thead th {\n",
       "        text-align: right;\n",
       "    }\n",
       "</style>\n",
       "<table border=\"1\" class=\"dataframe\">\n",
       "  <thead>\n",
       "    <tr style=\"text-align: right;\">\n",
       "      <th></th>\n",
       "      <th>name</th>\n",
       "      <th>image</th>\n",
       "    </tr>\n",
       "  </thead>\n",
       "  <tbody>\n",
       "    <tr>\n",
       "      <th>0</th>\n",
       "      <td>Динамо</td>\n",
       "      <td>/9j/4AAQSkZJRgABAQAAAQABAAD/2wBDAAUEBAUEAwUFBA...</td>\n",
       "    </tr>\n",
       "    <tr>\n",
       "      <th>1</th>\n",
       "      <td>Динамо</td>\n",
       "      <td>/9j/4AAQSkZJRgABAQAAAQABAAD/2wBDAAUEBAUEAwUFBA...</td>\n",
       "    </tr>\n",
       "    <tr>\n",
       "      <th>2</th>\n",
       "      <td>Динамо</td>\n",
       "      <td>/9j/4AAQSkZJRgABAQAAAQABAAD/2wBDAAUEBAUEAwUFBA...</td>\n",
       "    </tr>\n",
       "    <tr>\n",
       "      <th>3</th>\n",
       "      <td>Динамо</td>\n",
       "      <td>/9j/4AAQSkZJRgABAQAAAQABAAD/2wBDAAUEBAUEAwUFBA...</td>\n",
       "    </tr>\n",
       "    <tr>\n",
       "      <th>4</th>\n",
       "      <td>Динамо</td>\n",
       "      <td>/9j/4AAQSkZJRgABAQAAAQABAAD/2wBDAAUEBAUEAwUFBA...</td>\n",
       "    </tr>\n",
       "  </tbody>\n",
       "</table>\n",
       "</div>"
      ],
      "text/plain": [
       "     name                                              image\n",
       "0  Динамо  /9j/4AAQSkZJRgABAQAAAQABAAD/2wBDAAUEBAUEAwUFBA...\n",
       "1  Динамо  /9j/4AAQSkZJRgABAQAAAQABAAD/2wBDAAUEBAUEAwUFBA...\n",
       "2  Динамо  /9j/4AAQSkZJRgABAQAAAQABAAD/2wBDAAUEBAUEAwUFBA...\n",
       "3  Динамо  /9j/4AAQSkZJRgABAQAAAQABAAD/2wBDAAUEBAUEAwUFBA...\n",
       "4  Динамо  /9j/4AAQSkZJRgABAQAAAQABAAD/2wBDAAUEBAUEAwUFBA..."
      ]
     },
     "execution_count": 37,
     "metadata": {},
     "output_type": "execute_result"
    }
   ],
   "source": [
    "EKB_withEmbds.head()"
   ]
  },
  {
   "cell_type": "code",
   "execution_count": 27,
   "id": "82eed3a8",
   "metadata": {},
   "outputs": [
    {
     "data": {
      "text/plain": [
       "(1, 512)"
      ]
     },
     "execution_count": 27,
     "metadata": {},
     "output_type": "execute_result"
    }
   ],
   "source": [
    "EKB_img['img_embeddings'].iloc[0].shape"
   ]
  },
  {
   "cell_type": "code",
   "execution_count": 38,
   "id": "49a1a044-a84a-41ed-b03e-cded217f10b1",
   "metadata": {
    "execution": {
     "iopub.execute_input": "2024-04-10T16:05:05.224578Z",
     "iopub.status.busy": "2024-04-10T16:05:05.223536Z",
     "iopub.status.idle": "2024-04-10T16:05:05.264770Z",
     "shell.execute_reply": "2024-04-10T16:05:05.263647Z",
     "shell.execute_reply.started": "2024-04-10T16:05:05.224539Z"
    },
    "tags": []
   },
   "outputs": [
    {
     "name": "stdout",
     "output_type": "stream",
     "text": [
      "<PIL.JpegImagePlugin.JpegImageFile image mode=RGB size=427x320 at 0x21F32D13890>\n"
     ]
    }
   ],
   "source": [
    "query_image = EKB_img.iloc[1920].pil\n"
   ]
  },
  {
   "cell_type": "markdown",
   "id": "0047f18d",
   "metadata": {},
   "source": [
    "\"WikiData\",\"Name\",\"Kind\", \"City\",\"Rate\",\"Lon\", \"Lat\", \"russian_captions\""
   ]
  },
  {
   "cell_type": "code",
   "execution_count": 78,
   "id": "bfdcf1c6-1b44-4ee2-8394-aba5fac91bae",
   "metadata": {
    "collapsed": true,
    "execution": {
     "iopub.execute_input": "2024-04-10T18:38:14.647476Z",
     "iopub.status.busy": "2024-04-10T18:38:14.646661Z",
     "iopub.status.idle": "2024-04-10T18:38:22.138537Z",
     "shell.execute_reply": "2024-04-10T18:38:22.137157Z",
     "shell.execute_reply.started": "2024-04-10T18:38:14.647440Z"
    },
    "jupyter": {
     "outputs_hidden": true
    },
    "tags": []
   },
   "outputs": [
    {
     "data": {
      "text/plain": [
       "['улица чернышевского',\n",
       " 'улица добролюбова',\n",
       " 'дом печати (екатеринбург)',\n",
       " 'дом связи (екатеринбург)',\n",
       " 'дом промышленности',\n",
       " 'белая башня',\n",
       " 'театр музыкальной комедии',\n",
       " '№32 дом обороны',\n",
       " 'дом обороны',\n",
       " '№34 дом контор']"
      ]
     },
     "execution_count": 78,
     "metadata": {},
     "output_type": "execute_result"
    }
   ],
   "source": [
    "\n",
    "top_images  = model.get_top_N_images(query_image, EKB_img, EKB_places, search_criterion=\"image\" )\n",
    "top_images\n",
    "#model.plot_images_by_side(top_images, 5, 5)"
   ]
  },
  {
   "cell_type": "code",
   "execution_count": 92,
   "id": "4bcedeea",
   "metadata": {},
   "outputs": [
    {
     "name": "stdout",
     "output_type": "stream",
     "text": [
      "№32 дом обороны\n",
      "№34 дом контор\n"
     ]
    },
    {
     "name": "stderr",
     "output_type": "stream",
     "text": [
      "C:\\Users\\alex\\AppData\\Local\\Temp\\ipykernel_22128\\306915455.py:9: FutureWarning: The behavior of DataFrame concatenation with empty or all-NA entries is deprecated. In a future version, this will no longer exclude empty or all-NA columns when determining the result dtypes. To retain the old behavior, exclude the relevant entries before the concat operation.\n",
      "  result_df = pd.concat([result_df, entries])\n"
     ]
    }
   ],
   "source": [
    "def getData(names, places):\n",
    "    result_df = pd.DataFrame(columns= [\"WikiData\",\"Name\",\"Kind\", \"City\",\"Rate\",\"Lon\", \"Lat\", \"russian_captions\" ])\n",
    "    for name in names:\n",
    "        # Find entries with the given name in the 'Name' column of the DataFrame (case-insensitive)\n",
    "        entries = places[places[\"Name\"].str.lower() == name.lower()]\n",
    "        \n",
    "        # If entries are found, append them to the result DataFrame\n",
    "        if not entries.empty:\n",
    "            result_df = pd.concat([result_df, entries])\n",
    "        else:\n",
    "            print(name)\n",
    "    \n",
    "    return result_df\n",
    "\n",
    "data  = getData(top_images,EKB_places )"
   ]
  },
  {
   "cell_type": "code",
   "execution_count": 94,
   "id": "e58bb9f0",
   "metadata": {},
   "outputs": [
    {
     "data": {
      "text/html": [
       "<div>\n",
       "<style scoped>\n",
       "    .dataframe tbody tr th:only-of-type {\n",
       "        vertical-align: middle;\n",
       "    }\n",
       "\n",
       "    .dataframe tbody tr th {\n",
       "        vertical-align: top;\n",
       "    }\n",
       "\n",
       "    .dataframe thead th {\n",
       "        text-align: right;\n",
       "    }\n",
       "</style>\n",
       "<table border=\"1\" class=\"dataframe\">\n",
       "  <thead>\n",
       "    <tr style=\"text-align: right;\">\n",
       "      <th></th>\n",
       "      <th>WikiData</th>\n",
       "      <th>Name</th>\n",
       "      <th>Kind</th>\n",
       "      <th>City</th>\n",
       "      <th>Rate</th>\n",
       "      <th>Lon</th>\n",
       "      <th>Lat</th>\n",
       "      <th>russian_captions</th>\n",
       "    </tr>\n",
       "  </thead>\n",
       "  <tbody>\n",
       "    <tr>\n",
       "      <th>0</th>\n",
       "      <td>Q106150540</td>\n",
       "      <td>Здание бывшей гостиницы \"Мадрид\"</td>\n",
       "      <td>architecture,historic_architecture,accomodatio...</td>\n",
       "      <td>Екатеринбург</td>\n",
       "      <td>3h</td>\n",
       "      <td>60.588634</td>\n",
       "      <td>56.886154</td>\n",
       "      <td>архитектура историческая архитектура места про...</td>\n",
       "    </tr>\n",
       "    <tr>\n",
       "      <th>1</th>\n",
       "      <td>Q107506739</td>\n",
       "      <td>Серго Орджоникидзе</td>\n",
       "      <td>historic,monuments_and_memorials,interesting_p...</td>\n",
       "      <td>Екатеринбург</td>\n",
       "      <td>3h</td>\n",
       "      <td>60.592449</td>\n",
       "      <td>56.885479</td>\n",
       "      <td>историческое монументы и мемориалы интересные ...</td>\n",
       "    </tr>\n",
       "    <tr>\n",
       "      <th>2</th>\n",
       "      <td>Q107538882</td>\n",
       "      <td>Н. И. Кузнецову</td>\n",
       "      <td>historic,monuments_and_memorials,interesting_p...</td>\n",
       "      <td>Екатеринбург</td>\n",
       "      <td>3h</td>\n",
       "      <td>60.577671</td>\n",
       "      <td>56.890465</td>\n",
       "      <td>историческое монументы и мемориалы интересные ...</td>\n",
       "    </tr>\n",
       "    <tr>\n",
       "      <th>3</th>\n",
       "      <td>Q107573037</td>\n",
       "      <td>Малышеву</td>\n",
       "      <td>historic,monuments_and_memorials,urban_environ...</td>\n",
       "      <td>Екатеринбург</td>\n",
       "      <td>3h</td>\n",
       "      <td>60.604321</td>\n",
       "      <td>56.834213</td>\n",
       "      <td>историческое монументы и мемориалы городская с...</td>\n",
       "    </tr>\n",
       "    <tr>\n",
       "      <th>4</th>\n",
       "      <td>Q107583229</td>\n",
       "      <td>Комсомолу Урала</td>\n",
       "      <td>historic,monuments_and_memorials,urban_environ...</td>\n",
       "      <td>Екатеринбург</td>\n",
       "      <td>3h</td>\n",
       "      <td>60.610554</td>\n",
       "      <td>56.844635</td>\n",
       "      <td>историческое монументы и мемориалы городская с...</td>\n",
       "    </tr>\n",
       "  </tbody>\n",
       "</table>\n",
       "</div>"
      ],
      "text/plain": [
       "     WikiData                              Name  \\\n",
       "0  Q106150540  Здание бывшей гостиницы \"Мадрид\"   \n",
       "1  Q107506739                Серго Орджоникидзе   \n",
       "2  Q107538882                   Н. И. Кузнецову   \n",
       "3  Q107573037                          Малышеву   \n",
       "4  Q107583229                   Комсомолу Урала   \n",
       "\n",
       "                                                Kind          City Rate  \\\n",
       "0  architecture,historic_architecture,accomodatio...  Екатеринбург   3h   \n",
       "1  historic,monuments_and_memorials,interesting_p...  Екатеринбург   3h   \n",
       "2  historic,monuments_and_memorials,interesting_p...  Екатеринбург   3h   \n",
       "3  historic,monuments_and_memorials,urban_environ...  Екатеринбург   3h   \n",
       "4  historic,monuments_and_memorials,urban_environ...  Екатеринбург   3h   \n",
       "\n",
       "         Lon        Lat                                   russian_captions  \n",
       "0  60.588634  56.886154  архитектура историческая архитектура места про...  \n",
       "1  60.592449  56.885479  историческое монументы и мемориалы интересные ...  \n",
       "2  60.577671  56.890465  историческое монументы и мемориалы интересные ...  \n",
       "3  60.604321  56.834213  историческое монументы и мемориалы городская с...  \n",
       "4  60.610554  56.844635  историческое монументы и мемориалы городская с...  "
      ]
     },
     "execution_count": 94,
     "metadata": {},
     "output_type": "execute_result"
    }
   ],
   "source": [
    "EKB_places[EKB_places['Name'] == '№32 Lом Обороны']"
   ]
  },
  {
   "cell_type": "code",
   "execution_count": 90,
   "id": "e83bba56",
   "metadata": {},
   "outputs": [
    {
     "data": {
      "text/plain": [
       "['улица чернышевского',\n",
       " 'улица добролюбова',\n",
       " 'дом печати (екатеринбург)',\n",
       " 'дом связи (екатеринбург)',\n",
       " 'дом промышленности',\n",
       " 'белая башня',\n",
       " 'театр музыкальной комедии',\n",
       " '№32 дом обороны',\n",
       " 'дом обороны',\n",
       " '№34 дом контор']"
      ]
     },
     "execution_count": 90,
     "metadata": {},
     "output_type": "execute_result"
    }
   ],
   "source": [
    "top_images"
   ]
  },
  {
   "cell_type": "code",
   "execution_count": null,
   "id": "99684149",
   "metadata": {},
   "outputs": [],
   "source": []
  }
 ],
 "metadata": {
  "kernelspec": {
   "display_name": "DataSphere Kernel",
   "language": "python",
   "name": "python3"
  },
  "language_info": {
   "codemirror_mode": {
    "name": "ipython",
    "version": 3
   },
   "file_extension": ".py",
   "mimetype": "text/x-python",
   "name": "python",
   "nbconvert_exporter": "python",
   "pygments_lexer": "ipython3",
   "version": "3.11.7"
  }
 },
 "nbformat": 4,
 "nbformat_minor": 5
}
