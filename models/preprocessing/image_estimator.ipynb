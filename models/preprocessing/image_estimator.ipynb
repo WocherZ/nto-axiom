{
 "cells": [
  {
   "cell_type": "code",
   "execution_count": 40,
   "metadata": {},
   "outputs": [],
   "source": [
    "import torch\n",
    "import torch.nn as nn\n",
    "from torchvision import models, transforms\n",
    "from torch.utils.data import DataLoader, Dataset\n",
    "import pandas as pd\n",
    "from PIL import Image\n",
    "import base64\n",
    "import os\n",
    "import shutil\n",
    "import numpy as np\n",
    "import tensorflow as tf\n",
    "from keras.models import Model\n",
    "from keras.layers import Dropout, Dense\n",
    "from keras.applications import MobileNet\n",
    "from keras.preprocessing.image import load_img, img_to_array\n",
    "from keras.applications.mobilenet import preprocess_input\n",
    "from pathlib import Path\n",
    "import matplotlib.pyplot as plt"
   ]
  },
  {
   "cell_type": "code",
   "execution_count": 18,
   "metadata": {},
   "outputs": [],
   "source": [
    "curr_dir = os.getcwd()"
   ]
  },
  {
   "cell_type": "markdown",
   "metadata": {},
   "source": [
    "### Count weak examples"
   ]
  },
  {
   "cell_type": "code",
   "execution_count": 20,
   "metadata": {},
   "outputs": [],
   "source": [
    "def count_photos_in_folders(main_folder):\n",
    "    folder_photo_count = {}\n",
    "    \n",
    "    for folder_name in os.listdir(main_folder):\n",
    "        folder_path = os.path.join(main_folder, folder_name)\n",
    "        if os.path.isdir(folder_path):\n",
    "            photo_count = 0\n",
    "            for file in os.listdir(folder_path):\n",
    "                if file.lower().endswith(('.png', '.jpg', '.jpeg')):\n",
    "                    photo_count += 1\n",
    "                folder_photo_count[folder_name] = photo_count\n",
    "    \n",
    "    return folder_photo_count"
   ]
  },
  {
   "cell_type": "code",
   "execution_count": 22,
   "metadata": {},
   "outputs": [],
   "source": [
    "main_folder = os.path.join(curr_dir, 'clear_data_by_name')\n",
    "results = count_photos_in_folders(main_folder)"
   ]
  },
  {
   "cell_type": "code",
   "execution_count": 24,
   "metadata": {},
   "outputs": [
    {
     "name": "stdout",
     "output_type": "stream",
     "text": [
      "Папка: 1941-1945, Количество фотографий: 3\n",
      "Папка: Библиотечная лужайка, Количество фотографий: 3\n",
      "Папка: Дева Мария, Количество фотографий: 1\n",
      "Папка: Макет ракеты-носителя Союз-ТМ, Количество фотографий: 2\n",
      "Папка: П_И_ Чайковский, Количество фотографий: 1\n",
      "Папка: Сердце, Количество фотографий: 2\n",
      "Папка: Такса, Количество фотографий: 2\n",
      "Папка: Фавор, Количество фотографий: 2\n",
      "Папка: Чернобыль - трагедия XX века, Количество фотографий: 4\n"
     ]
    }
   ],
   "source": [
    "n = 5\n",
    "for folder, count in results.items():\n",
    "    if count <= n:\n",
    "        print(f'Папка: {folder}, Количество фотографий: {count}')"
   ]
  },
  {
   "cell_type": "markdown",
   "metadata": {},
   "source": [
    "### ModileNET"
   ]
  },
  {
   "cell_type": "code",
   "execution_count": 13,
   "metadata": {},
   "outputs": [],
   "source": [
    "def mean_score(scores):\n",
    "    si = np.arange(1, 11, 1)\n",
    "    mean = np.sum(scores * si)\n",
    "    return mean\n",
    "\n",
    "def std_score(scores):\n",
    "    si = np.arange(1, 11, 1)\n",
    "    mean = mean_score(scores)\n",
    "    std = np.sqrt(np.sum(((si - mean) ** 2) * scores))\n",
    "    return std"
   ]
  },
  {
   "cell_type": "code",
   "execution_count": 35,
   "metadata": {},
   "outputs": [],
   "source": [
    "main_folder = os.path.join(curr_dir, 'clear_data_by_name')\n",
    "\n",
    "with tf.device('/CPU:0'):\n",
    "    base_model = MobileNet((None, None, 3), \n",
    "                           alpha=1, \n",
    "                           include_top=False, \n",
    "                           pooling='avg', \n",
    "                           weights=None)\n",
    "    x = Dropout(0.75)(base_model.output)\n",
    "    x = Dense(10, activation='softmax')(x)\n",
    "\n",
    "    model = Model(base_model.input, x)\n",
    "    model.load_weights('mobilenet_weights.h5')\n",
    "\n",
    "    target_size = (224, 224)\n",
    "\n",
    "    for folder_name in os.listdir(main_folder):\n",
    "        best_score = -np.inf\n",
    "        best_image = None\n",
    "        folder_path = os.path.join(main_folder, folder_name)\n",
    "        for file in os.listdir(folder_path):\n",
    "            img = load_img(os.path.join(main_folder, \n",
    "                                        folder_path, \n",
    "                                        file), \n",
    "                                        target_size=target_size)\n",
    "            x = img_to_array(img)\n",
    "            x = np.expand_dims(x, axis=0)\n",
    "\n",
    "            x = preprocess_input(x)\n",
    "\n",
    "            scores = model.predict(x, batch_size=1, verbose=0)[0]\n",
    "\n",
    "            mean = mean_score(scores)\n",
    "            std = std_score(scores)\n",
    "\n",
    "            if mean > best_score:\n",
    "                best_score = mean\n",
    "                best_image = file\n",
    "\n",
    "        if best_image:\n",
    "            best_image_path = os.path.join(main_folder, \n",
    "                                           folder_name, \n",
    "                                           best_image)\n",
    "            best_image_new_path = os.path.join(main_folder, \n",
    "                                               folder_name, \n",
    "                                               f'best_image.{best_image.split(\".\")[-1]}')\n",
    "            shutil.copy(best_image_path, best_image_new_path)"
   ]
  },
  {
   "cell_type": "markdown",
   "metadata": {},
   "source": [
    "### Generate best image table"
   ]
  },
  {
   "cell_type": "code",
   "execution_count": 41,
   "metadata": {},
   "outputs": [
    {
     "name": "stdout",
     "output_type": "stream",
     "text": [
      "(356,)\n"
     ]
    }
   ],
   "source": [
    "data = pd.read_csv('clear_processed_data.csv')\n",
    "unique_names = data['Name'].unique()\n",
    "\n",
    "print(unique_names.shape)\n",
    "\n",
    "best_images_data = pd.DataFrame(columns=['Name', 'Best_Image_Path', 'Best_Image_Base64'])\n",
    "\n",
    "for name in unique_names:\n",
    "    image_path = data[data['Name'] == name]['image_path'].iloc[0]\n",
    "    folder_path = os.path.dirname(image_path)\n",
    "    \n",
    "    for file in os.listdir(folder_path):\n",
    "        if 'best_image' in file:\n",
    "            with open(os.path.join(folder_path, file), \"rb\") as image_file:\n",
    "                base64_string = base64.b64encode(image_file.read()).decode('utf-8')\n",
    "            \n",
    "            best_images_data = pd.concat([best_images_data, pd.DataFrame({\n",
    "                'Name': [name], \n",
    "                'Best_Image_Path': [os.path.join(folder_path, file)],\n",
    "                'Best_Image_Base64': [base64_string]\n",
    "            })], ignore_index=True)\n",
    "            break\n",
    "\n",
    "best_images_data.to_csv('best_images.csv', index=False)"
   ]
  },
  {
   "cell_type": "code",
   "execution_count": 42,
   "metadata": {},
   "outputs": [
    {
     "data": {
      "text/html": [
       "<div>\n",
       "<style scoped>\n",
       "    .dataframe tbody tr th:only-of-type {\n",
       "        vertical-align: middle;\n",
       "    }\n",
       "\n",
       "    .dataframe tbody tr th {\n",
       "        vertical-align: top;\n",
       "    }\n",
       "\n",
       "    .dataframe thead th {\n",
       "        text-align: right;\n",
       "    }\n",
       "</style>\n",
       "<table border=\"1\" class=\"dataframe\">\n",
       "  <thead>\n",
       "    <tr style=\"text-align: right;\">\n",
       "      <th></th>\n",
       "      <th>Name</th>\n",
       "      <th>Best_Image_Path</th>\n",
       "      <th>Best_Image_Base64</th>\n",
       "    </tr>\n",
       "  </thead>\n",
       "  <tbody>\n",
       "    <tr>\n",
       "      <th>0</th>\n",
       "      <td>Здание бывшей гостиницы \"Мадрид\"</td>\n",
       "      <td>c:\\Users\\alex\\Desktop\\NTO\\clear_data_by_name\\З...</td>\n",
       "      <td>/9j/4AAQSkZJRgABAQAAAQABAAD/2wBDAAUEBAUEAwUFBA...</td>\n",
       "    </tr>\n",
       "    <tr>\n",
       "      <th>1</th>\n",
       "      <td>Серго Орджоникидзе</td>\n",
       "      <td>c:\\Users\\alex\\Desktop\\NTO\\clear_data_by_name\\С...</td>\n",
       "      <td>/9j/4AAQSkZJRgABAQAAAQABAAD/2wBDAAUEBAUEAwUFBA...</td>\n",
       "    </tr>\n",
       "    <tr>\n",
       "      <th>2</th>\n",
       "      <td>Н. И. Кузнецову</td>\n",
       "      <td>c:\\Users\\alex\\Desktop\\NTO\\clear_data_by_name\\Н...</td>\n",
       "      <td>/9j/4AAQSkZJRgABAQAAAQABAAD/2wBDAAUEBAUEAwUFBA...</td>\n",
       "    </tr>\n",
       "    <tr>\n",
       "      <th>3</th>\n",
       "      <td>Малышеву</td>\n",
       "      <td>c:\\Users\\alex\\Desktop\\NTO\\clear_data_by_name\\М...</td>\n",
       "      <td>/9j/4AAQSkZJRgABAQAAAQABAAD/2wBDAAUEBAUEAwUFBA...</td>\n",
       "    </tr>\n",
       "    <tr>\n",
       "      <th>4</th>\n",
       "      <td>Комсомолу Урала</td>\n",
       "      <td>c:\\Users\\alex\\Desktop\\NTO\\clear_data_by_name\\К...</td>\n",
       "      <td>/9j/4AAQSkZJRgABAQAAAQABAAD/2wBDAAUEBAUEAwUFBA...</td>\n",
       "    </tr>\n",
       "  </tbody>\n",
       "</table>\n",
       "</div>"
      ],
      "text/plain": [
       "                               Name  \\\n",
       "0  Здание бывшей гостиницы \"Мадрид\"   \n",
       "1                Серго Орджоникидзе   \n",
       "2                   Н. И. Кузнецову   \n",
       "3                          Малышеву   \n",
       "4                   Комсомолу Урала   \n",
       "\n",
       "                                     Best_Image_Path  \\\n",
       "0  c:\\Users\\alex\\Desktop\\NTO\\clear_data_by_name\\З...   \n",
       "1  c:\\Users\\alex\\Desktop\\NTO\\clear_data_by_name\\С...   \n",
       "2  c:\\Users\\alex\\Desktop\\NTO\\clear_data_by_name\\Н...   \n",
       "3  c:\\Users\\alex\\Desktop\\NTO\\clear_data_by_name\\М...   \n",
       "4  c:\\Users\\alex\\Desktop\\NTO\\clear_data_by_name\\К...   \n",
       "\n",
       "                                   Best_Image_Base64  \n",
       "0  /9j/4AAQSkZJRgABAQAAAQABAAD/2wBDAAUEBAUEAwUFBA...  \n",
       "1  /9j/4AAQSkZJRgABAQAAAQABAAD/2wBDAAUEBAUEAwUFBA...  \n",
       "2  /9j/4AAQSkZJRgABAQAAAQABAAD/2wBDAAUEBAUEAwUFBA...  \n",
       "3  /9j/4AAQSkZJRgABAQAAAQABAAD/2wBDAAUEBAUEAwUFBA...  \n",
       "4  /9j/4AAQSkZJRgABAQAAAQABAAD/2wBDAAUEBAUEAwUFBA...  "
      ]
     },
     "execution_count": 42,
     "metadata": {},
     "output_type": "execute_result"
    }
   ],
   "source": [
    "best_images_data.head()"
   ]
  }
 ],
 "metadata": {
  "kernelspec": {
   "display_name": "base",
   "language": "python",
   "name": "python3"
  },
  "language_info": {
   "codemirror_mode": {
    "name": "ipython",
    "version": 3
   },
   "file_extension": ".py",
   "mimetype": "text/x-python",
   "name": "python",
   "nbconvert_exporter": "python",
   "pygments_lexer": "ipython3",
   "version": "3.11.7"
  }
 },
 "nbformat": 4,
 "nbformat_minor": 2
}
